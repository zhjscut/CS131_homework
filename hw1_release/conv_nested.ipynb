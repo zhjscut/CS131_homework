{
 "cells": [
  {
   "cell_type": "code",
   "execution_count": 44,
   "metadata": {
    "scrolled": false
   },
   "outputs": [
    {
     "ename": "AttributeError",
     "evalue": "'numpy.ndarray' object has no attribute 'vars'",
     "output_type": "error",
     "traceback": [
      "\u001b[1;31m---------------------------------------------------------------------------\u001b[0m",
      "\u001b[1;31mAttributeError\u001b[0m                            Traceback (most recent call last)",
      "\u001b[1;32m<ipython-input-44-5885aa554ff2>\u001b[0m in \u001b[0;36m<module>\u001b[1;34m()\u001b[0m\n\u001b[0;32m     37\u001b[0m \u001b[0mtemp_grey\u001b[0m \u001b[1;33m=\u001b[0m \u001b[0mio\u001b[0m\u001b[1;33m.\u001b[0m\u001b[0mimread\u001b[0m\u001b[1;33m(\u001b[0m\u001b[1;34m'template.jpg'\u001b[0m\u001b[1;33m,\u001b[0m \u001b[0mas_grey\u001b[0m\u001b[1;33m=\u001b[0m\u001b[1;32mTrue\u001b[0m\u001b[1;33m)\u001b[0m\u001b[1;33m\u001b[0m\u001b[0m\n\u001b[0;32m     38\u001b[0m \u001b[1;33m\u001b[0m\u001b[0m\n\u001b[1;32m---> 39\u001b[1;33m \u001b[0mout\u001b[0m \u001b[1;33m=\u001b[0m \u001b[0mnormalized_cross_correlation\u001b[0m\u001b[1;33m(\u001b[0m\u001b[0mimg_grey\u001b[0m\u001b[1;33m,\u001b[0m \u001b[0mtemp_grey\u001b[0m\u001b[1;33m)\u001b[0m\u001b[1;33m\u001b[0m\u001b[0m\n\u001b[0m\u001b[0;32m     40\u001b[0m \u001b[1;33m\u001b[0m\u001b[0m\n\u001b[0;32m     41\u001b[0m \u001b[1;31m# Find the location with maximum similarity\u001b[0m\u001b[1;33m\u001b[0m\u001b[1;33m\u001b[0m\u001b[0m\n",
      "\u001b[1;32m<ipython-input-44-5885aa554ff2>\u001b[0m in \u001b[0;36mnormalized_cross_correlation\u001b[1;34m(image, kernel)\u001b[0m\n\u001b[0;32m     25\u001b[0m     \u001b[0mresult\u001b[0m \u001b[1;33m=\u001b[0m \u001b[0mnp\u001b[0m\u001b[1;33m.\u001b[0m\u001b[0mzeros\u001b[0m\u001b[1;33m(\u001b[0m\u001b[1;33m(\u001b[0m\u001b[0mHi\u001b[0m\u001b[1;33m,\u001b[0m \u001b[0mWi\u001b[0m\u001b[1;33m)\u001b[0m\u001b[1;33m)\u001b[0m\u001b[1;33m\u001b[0m\u001b[0m\n\u001b[0;32m     26\u001b[0m     \u001b[0mkernel1\u001b[0m \u001b[1;33m=\u001b[0m \u001b[0mcopy\u001b[0m\u001b[1;33m.\u001b[0m\u001b[0mdeepcopy\u001b[0m\u001b[1;33m(\u001b[0m\u001b[0mkernel\u001b[0m\u001b[1;33m)\u001b[0m\u001b[1;33m\u001b[0m\u001b[0m\n\u001b[1;32m---> 27\u001b[1;33m     \u001b[0mkernel1\u001b[0m \u001b[1;33m=\u001b[0m \u001b[1;33m(\u001b[0m\u001b[0mkernel1\u001b[0m \u001b[1;33m-\u001b[0m \u001b[0mkernel1\u001b[0m\u001b[1;33m.\u001b[0m\u001b[0mmean\u001b[0m\u001b[1;33m(\u001b[0m\u001b[1;33m)\u001b[0m\u001b[1;33m)\u001b[0m \u001b[1;33m/\u001b[0m \u001b[0mkernel1\u001b[0m\u001b[1;33m.\u001b[0m\u001b[0mvars\u001b[0m\u001b[1;33m(\u001b[0m\u001b[1;33m)\u001b[0m\u001b[1;33m\u001b[0m\u001b[0m\n\u001b[0m\u001b[0;32m     28\u001b[0m     \u001b[1;32mfor\u001b[0m \u001b[0mi\u001b[0m \u001b[1;32min\u001b[0m \u001b[0mrange\u001b[0m\u001b[1;33m(\u001b[0m\u001b[1;36m0\u001b[0m\u001b[1;33m,\u001b[0m \u001b[0mHi\u001b[0m\u001b[1;33m)\u001b[0m\u001b[1;33m:\u001b[0m\u001b[1;33m\u001b[0m\u001b[0m\n\u001b[0;32m     29\u001b[0m         \u001b[1;32mfor\u001b[0m \u001b[0mj\u001b[0m \u001b[1;32min\u001b[0m \u001b[0mrange\u001b[0m\u001b[1;33m(\u001b[0m\u001b[1;36m0\u001b[0m\u001b[1;33m,\u001b[0m \u001b[0mWi\u001b[0m\u001b[1;33m)\u001b[0m\u001b[1;33m:\u001b[0m\u001b[1;33m\u001b[0m\u001b[0m\n",
      "\u001b[1;31mAttributeError\u001b[0m: 'numpy.ndarray' object has no attribute 'vars'"
     ]
    }
   ],
   "source": [
    "import numpy as np\n",
    "import time\n",
    "import copy\n",
    "from skimage import io\n",
    "import matplotlib.pyplot as plt\n",
    "\n",
    "def normalized_cross_correlation(image, kernel):\n",
    "    \"\"\" Normalized cross-correlation of f and g\n",
    "\n",
    "    Normalize the subimage of f and the template g at each step\n",
    "    before computing the weighted sum of the two.\n",
    "\n",
    "    Args:\n",
    "        f: numpy array of shape (Hf, Wf)\n",
    "        g: numpy array of shape (Hg, Wg)\n",
    "\n",
    "    Returns:\n",
    "        out: numpy array of shape (Hf, Wf)\n",
    "    \"\"\"\n",
    "\n",
    "    Hi, Wi = image.shape\n",
    "    Hk, Wk = kernel.shape\n",
    "    pad_height, pad_width = int(Hk / 2), int(Wk / 2)\n",
    "    image0 = zero_pad(image, pad_height, pad_width)\n",
    "    result = np.zeros((Hi, Wi))\n",
    "    kernel1 = copy.deepcopy(kernel)\n",
    "    kernel1 = (kernel1 - kernel1.mean()) / kernel1.vars()\n",
    "    for i in range(0, Hi):\n",
    "        for j in range(0, Wi):\n",
    "            X = image0[i: i + Hk, j: j + Wk]\n",
    "            X = (X - X.mean()) / X.vars()            \n",
    "            result[i, j] = np.sum(X * kernel1)\n",
    "    return result \n",
    "\n",
    "\n",
    "img_grey = io.imread('shelf_dark.jpg', as_grey=True)\n",
    "temp_grey = io.imread('template.jpg', as_grey=True)\n",
    "\n",
    "out = normalized_cross_correlation(img_grey, temp_grey)\n",
    "\n",
    "# Find the location with maximum similarity\n",
    "y,x = (np.unravel_index(out.argmax(), out.shape))\n",
    "\n",
    "# Display image\n",
    "plt.imshow(img)\n",
    "plt.title('Result (red marker on the detected location)')\n",
    "plt.axis('off')\n",
    "\n",
    "# Draw marker at detcted location\n",
    "plt.plot(x, y, 'rx', ms=25, mew=5)\n",
    "plt.show()"
   ]
  },
  {
   "cell_type": "code",
   "execution_count": 45,
   "metadata": {},
   "outputs": [],
   "source": [
    "a = np.zeros((1,2))\n",
    "a."
   ]
  }
 ],
 "metadata": {
  "kernelspec": {
   "display_name": "Python 3",
   "language": "python",
   "name": "python3"
  },
  "language_info": {
   "codemirror_mode": {
    "name": "ipython",
    "version": 3
   },
   "file_extension": ".py",
   "mimetype": "text/x-python",
   "name": "python",
   "nbconvert_exporter": "python",
   "pygments_lexer": "ipython3",
   "version": "3.6.2"
  }
 },
 "nbformat": 4,
 "nbformat_minor": 2
}
